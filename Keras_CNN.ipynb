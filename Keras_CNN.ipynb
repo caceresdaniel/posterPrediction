{
 "cells": [
  {
   "cell_type": "code",
   "execution_count": 132,
   "metadata": {},
   "outputs": [],
   "source": [
    "from keras.models import Sequential\n",
    "from keras.layers import Dense, Dropout, Flatten, Input\n",
    "from keras.layers import Convolution2D, MaxPooling2D, Activation\n",
    "from keras.layers.normalization import BatchNormalization\n",
    "from sklearn.model_selection import train_test_split\n",
    "from keras.utils import np_utils\n",
    "\n",
    "from matplotlib import pyplot as plt\n",
    "import matplotlib.image as mpimg\n",
    "\n",
    "import pandas as pd\n",
    "import numpy as np\n",
    "\n",
    "%matplotlib inline"
   ]
  },
  {
   "cell_type": "code",
   "execution_count": 111,
   "metadata": {},
   "outputs": [],
   "source": [
    "def toNumeric(genre):\n",
    "    if genre == 'Romance':\n",
    "        return 0\n",
    "    elif genre == 'Comedy':\n",
    "        return 1\n",
    "    elif genre == 'Documentary':\n",
    "        return 2\n",
    "    elif genre == 'Drama':\n",
    "        return 3\n",
    "    elif genre == 'Crime':\n",
    "        return 4\n",
    "    elif genre == 'Action':\n",
    "        return 5\n",
    "    elif genre == 'Animation':\n",
    "        return 6\n",
    "    elif genre == 'Horror':\n",
    "        return 7\n",
    "    elif genre == 'Short':\n",
    "        return 8\n",
    "    elif genre == 'Adventure':\n",
    "        return 9\n",
    "    elif genre == 'Sci-Fi':\n",
    "        return 10\n",
    "    elif genre == 'Thriller':\n",
    "        return 11\n",
    "    elif genre == 'Biography':\n",
    "        return 12\n",
    "    elif genre == 'Talk-Show':\n",
    "        return 13\n",
    "    elif genre == 'Family':\n",
    "        return 14\n",
    "    elif genre == 'Fantasy':\n",
    "        return 15\n",
    "    elif genre == 'Mystery':\n",
    "        return 16\n",
    "    elif genre == 'History':\n",
    "        return 17\n",
    "    elif genre == 'Music':\n",
    "        return 18\n",
    "    elif genre == 'Musical':\n",
    "        return 19\n",
    "    elif genre == 'Sport':\n",
    "        return 20"
   ]
  },
  {
   "cell_type": "code",
   "execution_count": 185,
   "metadata": {},
   "outputs": [],
   "source": [
    "data = pd.read_csv('../dataset/MovieGenre.csv')\n",
    "cat_y = pd.read_csv('labels.csv')['Genre']"
   ]
  },
  {
   "cell_type": "code",
   "execution_count": 217,
   "metadata": {},
   "outputs": [],
   "source": [
    "num_y = []\n",
    "for genre in cat_y:\n",
    "    g = toNumeric(genre)\n",
    "    num_y.append(g)\n",
    "    \n",
    "y = np.asarray(num_y)"
   ]
  },
  {
   "cell_type": "code",
   "execution_count": 220,
   "metadata": {},
   "outputs": [],
   "source": [
    "y = np_utils.to_categorical(y, 22)"
   ]
  },
  {
   "cell_type": "code",
   "execution_count": 221,
   "metadata": {},
   "outputs": [
    {
     "data": {
      "text/plain": [
       "(1949, 22)"
      ]
     },
     "execution_count": 221,
     "metadata": {},
     "output_type": "execute_result"
    }
   ],
   "source": [
    "y.shape"
   ]
  },
  {
   "cell_type": "code",
   "execution_count": 24,
   "metadata": {},
   "outputs": [],
   "source": [
    "images = []\n",
    "for pid in data['imdbId']:\n",
    "    img = mpimg.imread('../dataset/posters/' + str(pid) + '.jpg')\n",
    "    images.append(img)"
   ]
  },
  {
   "cell_type": "code",
   "execution_count": 25,
   "metadata": {
    "scrolled": true
   },
   "outputs": [
    {
     "data": {
      "text/plain": [
       "array([[[145, 203, 241],\n",
       "        [148, 201, 241],\n",
       "        [152, 201, 241],\n",
       "        ...,\n",
       "        [136, 208, 248],\n",
       "        [136, 208, 248],\n",
       "        [136, 208, 248]],\n",
       "\n",
       "       [[143, 205, 242],\n",
       "        [145, 205, 242],\n",
       "        [149, 203, 241],\n",
       "        ...,\n",
       "        [136, 208, 248],\n",
       "        [136, 208, 248],\n",
       "        [136, 208, 248]],\n",
       "\n",
       "       [[140, 208, 243],\n",
       "        [142, 208, 242],\n",
       "        [146, 206, 242],\n",
       "        ...,\n",
       "        [138, 207, 248],\n",
       "        [138, 207, 248],\n",
       "        [138, 207, 248]],\n",
       "\n",
       "       ...,\n",
       "\n",
       "       [[130, 206, 238],\n",
       "        [131, 207, 239],\n",
       "        [131, 208, 238],\n",
       "        ...,\n",
       "        [159, 214, 235],\n",
       "        [151, 209, 231],\n",
       "        [148, 210, 235]],\n",
       "\n",
       "       [[128, 207, 238],\n",
       "        [128, 207, 238],\n",
       "        [128, 207, 238],\n",
       "        ...,\n",
       "        [158, 209, 228],\n",
       "        [152, 207, 228],\n",
       "        [153, 211, 233]],\n",
       "\n",
       "       [[128, 207, 238],\n",
       "        [128, 207, 238],\n",
       "        [128, 207, 238],\n",
       "        ...,\n",
       "        [154, 201, 219],\n",
       "        [148, 200, 221],\n",
       "        [150, 206, 229]]], dtype=uint8)"
      ]
     },
     "execution_count": 25,
     "metadata": {},
     "output_type": "execute_result"
    }
   ],
   "source": [
    "images[0]"
   ]
  },
  {
   "cell_type": "code",
   "execution_count": 27,
   "metadata": {
    "scrolled": true
   },
   "outputs": [
    {
     "data": {
      "text/plain": [
       "<matplotlib.image.AxesImage at 0x2505be53f28>"
      ]
     },
     "execution_count": 27,
     "metadata": {},
     "output_type": "execute_result"
    },
    {
     "data": {
      "image/png": "[encoded data removed]",
      "text/plain": [
       "<Figure size 432x288 with 1 Axes>"
      ]
     },
     "metadata": {
      "needs_background": "light"
     },
     "output_type": "display_data"
    }
   ],
   "source": [
    "plt.imshow(images[0])"
   ]
  },
  {
   "cell_type": "code",
   "execution_count": 38,
   "metadata": {},
   "outputs": [],
   "source": [
    "X=np.asarray(images,dtype=float)"
   ]
  },
  {
   "cell_type": "code",
   "execution_count": 208,
   "metadata": {},
   "outputs": [
    {
     "data": {
      "text/plain": [
       "(1949, 268, 182, 3)"
      ]
     },
     "execution_count": 208,
     "metadata": {},
     "output_type": "execute_result"
    }
   ],
   "source": [
    "images.shape"
   ]
  },
  {
   "cell_type": "code",
   "execution_count": 58,
   "metadata": {},
   "outputs": [],
   "source": [
    "img_width = 182\n",
    "img_height = 268"
   ]
  },
  {
   "cell_type": "code",
   "execution_count": 222,
   "metadata": {},
   "outputs": [],
   "source": [
    "X_train, X_test, y_train, y_test = train_test_split(X, y, test_size=0.3, random_state=3)"
   ]
  },
  {
   "cell_type": "code",
   "execution_count": 223,
   "metadata": {},
   "outputs": [
    {
     "name": "stdout",
     "output_type": "stream",
     "text": [
      "(1364, 268, 182, 3)\n",
      "(1364, 22)\n"
     ]
    }
   ],
   "source": [
    "print(X_train.shape)\n",
    "print(y_train.shape)"
   ]
  },
  {
   "cell_type": "code",
   "execution_count": 224,
   "metadata": {},
   "outputs": [],
   "source": [
    "X_train = X_train.astype('float32')\n",
    "X_test = X_test.astype('float32')\n",
    "X_train /= 255\n",
    "X_test /= 255"
   ]
  },
  {
   "cell_type": "code",
   "execution_count": 225,
   "metadata": {},
   "outputs": [
    {
     "name": "stdout",
     "output_type": "stream",
     "text": [
      "X_train shape: (1364, 268, 182, 3)\n",
      "X_test shape: (585, 268, 182, 3)\n",
      "1364 train samples\n",
      "585 test samples\n"
     ]
    }
   ],
   "source": [
    "print('X_train shape:', X_train.shape)\n",
    "print('X_test shape:', X_test.shape)\n",
    "print(X_train.shape[0], 'train samples')\n",
    "print(X_test.shape[0], 'test samples')"
   ]
  },
  {
   "cell_type": "code",
   "execution_count": 242,
   "metadata": {},
   "outputs": [
    {
     "name": "stdout",
     "output_type": "stream",
     "text": [
      "(None, 266, 180, 128)\n"
     ]
    }
   ],
   "source": [
    "#defining the model\n",
    "model = Sequential()\n",
    "\n",
    "#input\n",
    "model.add(Convolution2D(128, (3, 3), activation='relu', input_shape=(img_height, img_width,3)))\n",
    "print(model.output_shape)\n"
   ]
  },
  {
   "cell_type": "code",
   "execution_count": 243,
   "metadata": {},
   "outputs": [
    {
     "name": "stdout",
     "output_type": "stream",
     "text": [
      "(None, 264, 178, 64)\n",
      "(None, 88, 59, 64)\n",
      "(None, 87, 58, 64)\n",
      "(None, 43, 29, 64)\n",
      "(None, 42, 28, 64)\n",
      "(None, 21, 14, 64)\n"
     ]
    }
   ],
   "source": [
    "#convolutions\n",
    "\n",
    "model.add(Convolution2D(64, (3, 3), activation='relu'))\n",
    "print(model.output_shape)\n",
    "model.add(MaxPooling2D(pool_size=(3, 3)))\n",
    "print(model.output_shape)\n",
    "model.add(Dropout(0.3))\n",
    "\n",
    "model.add(Convolution2D(64, (2,2), activation='relu'))\n",
    "print(model.output_shape)\n",
    "model.add(MaxPooling2D(pool_size=(2,2)))\n",
    "print(model.output_shape)\n",
    "model.add(Dropout(0.3))\n",
    "\n",
    "model.add(Convolution2D(64, (2,2), activation='relu'))\n",
    "print(model.output_shape)\n",
    "model.add(MaxPooling2D(pool_size=(2,2)))\n",
    "print(model.output_shape)\n",
    "model.add(Dropout(0.2))"
   ]
  },
  {
   "cell_type": "code",
   "execution_count": 244,
   "metadata": {},
   "outputs": [
    {
     "name": "stdout",
     "output_type": "stream",
     "text": [
      "(None, 18816)\n",
      "(None, 44)\n",
      "(None, 22)\n"
     ]
    }
   ],
   "source": [
    "#dense layers\n",
    "model.add(Flatten())\n",
    "print(model.output_shape)\n",
    "\n",
    "model.add(Dense(44, activation='relu'))\n",
    "print(model.output_shape)\n",
    "model.add(Dropout(0.15))\n",
    "\n",
    "model.add(Dense(22, activation='softmax'))\n",
    "print(model.output_shape)\n",
    "model.add(Dropout(0.15))\n",
    "\n",
    "# model.add(Dense(8, activation='softmax'))\n",
    "# print(model.output_shape)\n",
    "# model.add(Dropout(0.15))\n"
   ]
  },
  {
   "cell_type": "code",
   "execution_count": 245,
   "metadata": {
    "scrolled": true
   },
   "outputs": [
    {
     "name": "stdout",
     "output_type": "stream",
     "text": [
      "_________________________________________________________________\n",
      "Layer (type)                 Output Shape              Param #   \n",
      "=================================================================\n",
      "conv2d_55 (Conv2D)           (None, 266, 180, 128)     3584      \n",
      "_________________________________________________________________\n",
      "conv2d_56 (Conv2D)           (None, 264, 178, 64)      73792     \n",
      "_________________________________________________________________\n",
      "max_pooling2d_38 (MaxPooling (None, 88, 59, 64)        0         \n",
      "_________________________________________________________________\n",
      "dropout_70 (Dropout)         (None, 88, 59, 64)        0         \n",
      "_________________________________________________________________\n",
      "conv2d_57 (Conv2D)           (None, 87, 58, 64)        16448     \n",
      "_________________________________________________________________\n",
      "max_pooling2d_39 (MaxPooling (None, 43, 29, 64)        0         \n",
      "_________________________________________________________________\n",
      "dropout_71 (Dropout)         (None, 43, 29, 64)        0         \n",
      "_________________________________________________________________\n",
      "conv2d_58 (Conv2D)           (None, 42, 28, 64)        16448     \n",
      "_________________________________________________________________\n",
      "max_pooling2d_40 (MaxPooling (None, 21, 14, 64)        0         \n",
      "_________________________________________________________________\n",
      "dropout_72 (Dropout)         (None, 21, 14, 64)        0         \n",
      "_________________________________________________________________\n",
      "flatten_15 (Flatten)         (None, 18816)             0         \n",
      "_________________________________________________________________\n",
      "dense_33 (Dense)             (None, 44)                827948    \n",
      "_________________________________________________________________\n",
      "dropout_73 (Dropout)         (None, 44)                0         \n",
      "_________________________________________________________________\n",
      "dense_34 (Dense)             (None, 22)                990       \n",
      "_________________________________________________________________\n",
      "dropout_74 (Dropout)         (None, 22)                0         \n",
      "=================================================================\n",
      "Total params: 939,210\n",
      "Trainable params: 939,210\n",
      "Non-trainable params: 0\n",
      "_________________________________________________________________\n",
      "None\n"
     ]
    }
   ],
   "source": [
    "\n",
    "#printing model summary\n",
    "print(model.summary())\n",
    "\n",
    "#compiling the model\n",
    "model.compile(loss='categorical_crossentropy',metrics=['accuracy'],\n",
    "              optimizer='adam')"
   ]
  },
  {
   "cell_type": "code",
   "execution_count": 246,
   "metadata": {},
   "outputs": [
    {
     "name": "stdout",
     "output_type": "stream",
     "text": [
      "(None, 22)\n"
     ]
    }
   ],
   "source": [
    "print(model.output_shape)"
   ]
  },
  {
   "cell_type": "code",
   "execution_count": 247,
   "metadata": {},
   "outputs": [
    {
     "data": {
      "text/plain": [
       "(1364, 22)"
      ]
     },
     "execution_count": 247,
     "metadata": {},
     "output_type": "execute_result"
    }
   ],
   "source": [
    "y_train.shape"
   ]
  },
  {
   "cell_type": "code",
   "execution_count": 248,
   "metadata": {},
   "outputs": [
    {
     "data": {
      "text/plain": [
       "(585, 268, 182, 3)"
      ]
     },
     "execution_count": 248,
     "metadata": {},
     "output_type": "execute_result"
    }
   ],
   "source": [
    "X_test.shape"
   ]
  },
  {
   "cell_type": "code",
   "execution_count": 249,
   "metadata": {},
   "outputs": [],
   "source": [
    "#training controls\n",
    "batch_size = 25\n",
    "epochs = 100\n",
    "training_size = 0.7\n"
   ]
  },
  {
   "cell_type": "code",
   "execution_count": 250,
   "metadata": {
    "scrolled": true
   },
   "outputs": [
    {
     "name": "stdout",
     "output_type": "stream",
     "text": [
      "Epoch 1/100\n",
      "1364/1364 [==============================] - 293s 215ms/step - loss: 4.2891 - acc: 0.2111\n",
      "Epoch 2/100\n",
      "1364/1364 [==============================] - 270s 198ms/step - loss: 4.2405 - acc: 0.2295\n",
      "Epoch 3/100\n",
      "1364/1364 [==============================] - 270s 198ms/step - loss: 4.0873 - acc: 0.2302\n",
      "Epoch 4/100\n",
      "1364/1364 [==============================] - 271s 199ms/step - loss: 4.2286 - acc: 0.2397\n",
      "Epoch 5/100\n",
      "1364/1364 [==============================] - 272s 199ms/step - loss: 4.1874 - acc: 0.2559\n",
      "Epoch 6/100\n",
      "1364/1364 [==============================] - 279s 205ms/step - loss: 4.0676 - acc: 0.2522\n",
      "Epoch 7/100\n",
      "1364/1364 [==============================] - 292s 214ms/step - loss: 4.1415 - acc: 0.2742\n",
      "Epoch 8/100\n",
      "1364/1364 [==============================] - 289s 212ms/step - loss: 3.9147 - acc: 0.2815\n",
      "Epoch 9/100\n",
      "1364/1364 [==============================] - 266s 195ms/step - loss: 3.8373 - acc: 0.2925\n",
      "Epoch 10/100\n",
      "1364/1364 [==============================] - 265s 194ms/step - loss: 3.7581 - acc: 0.3314\n",
      "Epoch 11/100\n",
      "1364/1364 [==============================] - 265s 195ms/step - loss: 3.9610 - acc: 0.3446\n",
      "Epoch 12/100\n",
      "1364/1364 [==============================] - 266s 195ms/step - loss: 3.7835 - acc: 0.3790\n",
      "Epoch 13/100\n",
      "1364/1364 [==============================] - 265s 194ms/step - loss: 3.6733 - acc: 0.4384\n",
      "Epoch 14/100\n",
      "1364/1364 [==============================] - 266s 195ms/step - loss: 3.3169 - acc: 0.4773\n",
      "Epoch 15/100\n",
      "1364/1364 [==============================] - 265s 195ms/step - loss: 3.0822 - acc: 0.5359\n",
      "Epoch 16/100\n",
      "1364/1364 [==============================] - 266s 195ms/step - loss: 3.2169 - acc: 0.5521\n",
      "Epoch 17/100\n",
      "1364/1364 [==============================] - 266s 195ms/step - loss: 3.2357 - acc: 0.5887\n",
      "Epoch 18/100\n",
      "1364/1364 [==============================] - 265s 195ms/step - loss: 3.0689 - acc: 0.6232\n",
      "Epoch 19/100\n",
      "1364/1364 [==============================] - 266s 195ms/step - loss: 2.7917 - acc: 0.6679\n",
      "Epoch 20/100\n",
      "1364/1364 [==============================] - 267s 195ms/step - loss: 2.9735 - acc: 0.6518\n",
      "Epoch 21/100\n",
      "1364/1364 [==============================] - 265s 194ms/step - loss: 2.9897 - acc: 0.6628\n",
      "Epoch 22/100\n",
      "1364/1364 [==============================] - 265s 194ms/step - loss: 2.7002 - acc: 0.7207\n",
      "Epoch 23/100\n",
      "1364/1364 [==============================] - 266s 195ms/step - loss: 2.5947 - acc: 0.7265\n",
      "Epoch 24/100\n",
      "1364/1364 [==============================] - 264s 194ms/step - loss: 2.8948 - acc: 0.7199\n",
      "Epoch 25/100\n",
      "1364/1364 [==============================] - 267s 196ms/step - loss: 2.7330 - acc: 0.7221\n",
      "Epoch 26/100\n",
      "1364/1364 [==============================] - 265s 194ms/step - loss: 2.5362 - acc: 0.7551\n",
      "Epoch 27/100\n",
      "1364/1364 [==============================] - 265s 194ms/step - loss: 2.7800 - acc: 0.7595\n",
      "Epoch 28/100\n",
      "1364/1364 [==============================] - 266s 195ms/step - loss: 2.5718 - acc: 0.7647\n",
      "Epoch 29/100\n",
      "1364/1364 [==============================] - 264s 194ms/step - loss: 2.5747 - acc: 0.7669\n",
      "Epoch 30/100\n",
      "1364/1364 [==============================] - 266s 195ms/step - loss: 2.8322 - acc: 0.7559\n",
      "Epoch 31/100\n",
      "1364/1364 [==============================] - 267s 196ms/step - loss: 2.4474 - acc: 0.7896\n",
      "Epoch 32/100\n",
      "1364/1364 [==============================] - 267s 195ms/step - loss: 2.7601 - acc: 0.7551\n",
      "Epoch 33/100\n",
      "1364/1364 [==============================] - 265s 194ms/step - loss: 2.5399 - acc: 0.7859\n",
      "Epoch 34/100\n",
      "1364/1364 [==============================] - 266s 195ms/step - loss: 2.7847 - acc: 0.7727\n",
      "Epoch 35/100\n",
      "1364/1364 [==============================] - 267s 195ms/step - loss: 2.5878 - acc: 0.7845\n",
      "Epoch 36/100\n",
      "1364/1364 [==============================] - 266s 195ms/step - loss: 2.8865 - acc: 0.7676\n",
      "Epoch 37/100\n",
      "1364/1364 [==============================] - 267s 196ms/step - loss: 2.6662 - acc: 0.7823\n",
      "Epoch 38/100\n",
      "1364/1364 [==============================] - 266s 195ms/step - loss: 2.7369 - acc: 0.7786\n",
      "Epoch 39/100\n",
      "1364/1364 [==============================] - 267s 196ms/step - loss: 2.5861 - acc: 0.7852\n",
      "Epoch 40/100\n",
      "1364/1364 [==============================] - 267s 196ms/step - loss: 2.5983 - acc: 0.7845\n",
      "Epoch 41/100\n",
      "1364/1364 [==============================] - 266s 195ms/step - loss: 2.8301 - acc: 0.7654\n",
      "Epoch 42/100\n",
      "1364/1364 [==============================] - 266s 195ms/step - loss: 2.8297 - acc: 0.7705\n",
      "Epoch 43/100\n",
      "1364/1364 [==============================] - 266s 195ms/step - loss: 2.9215 - acc: 0.7705\n",
      "Epoch 44/100\n",
      "1364/1364 [==============================] - 266s 195ms/step - loss: 2.6460 - acc: 0.7852\n",
      "Epoch 45/100\n",
      "1364/1364 [==============================] - 265s 194ms/step - loss: 2.5195 - acc: 0.7918\n",
      "Epoch 46/100\n",
      "1364/1364 [==============================] - 266s 195ms/step - loss: 2.6336 - acc: 0.7947\n",
      "Epoch 47/100\n",
      "1364/1364 [==============================] - 265s 194ms/step - loss: 2.6042 - acc: 0.7896\n",
      "Epoch 48/100\n",
      "1364/1364 [==============================] - 265s 194ms/step - loss: 2.4424 - acc: 0.8123\n",
      "Epoch 49/100\n",
      "1364/1364 [==============================] - 265s 194ms/step - loss: 2.4522 - acc: 0.8035\n",
      "Epoch 50/100\n",
      "1364/1364 [==============================] - 266s 195ms/step - loss: 2.4255 - acc: 0.8057\n",
      "Epoch 51/100\n",
      "1364/1364 [==============================] - 267s 195ms/step - loss: 2.4394 - acc: 0.8123\n",
      "Epoch 52/100\n",
      "1364/1364 [==============================] - 267s 196ms/step - loss: 2.4557 - acc: 0.8101\n",
      "Epoch 53/100\n",
      "1364/1364 [==============================] - 266s 195ms/step - loss: 2.5178 - acc: 0.8006\n",
      "Epoch 54/100\n",
      "1364/1364 [==============================] - 268s 196ms/step - loss: 2.4372 - acc: 0.8160\n",
      "Epoch 55/100\n",
      "1364/1364 [==============================] - 267s 196ms/step - loss: 2.4721 - acc: 0.8006\n",
      "Epoch 56/100\n",
      "1364/1364 [==============================] - 266s 195ms/step - loss: 2.5146 - acc: 0.8021\n",
      "Epoch 57/100\n",
      "1364/1364 [==============================] - 266s 195ms/step - loss: 2.5866 - acc: 0.8130\n",
      "Epoch 58/100\n",
      "1364/1364 [==============================] - 265s 194ms/step - loss: 2.3227 - acc: 0.8226\n",
      "Epoch 59/100\n",
      "1364/1364 [==============================] - 479s 351ms/step - loss: 2.4532 - acc: 0.8043\n",
      "Epoch 60/100\n",
      "1364/1364 [==============================] - 740s 543ms/step - loss: 2.7279 - acc: 0.7889\n",
      "Epoch 61/100\n",
      "1364/1364 [==============================] - 743s 544ms/step - loss: 2.6336 - acc: 0.7991\n",
      "Epoch 62/100\n",
      "1364/1364 [==============================] - 736s 540ms/step - loss: 2.5187 - acc: 0.7999\n",
      "Epoch 63/100\n",
      "1364/1364 [==============================] - 739s 542ms/step - loss: 2.4113 - acc: 0.8145\n",
      "Epoch 64/100\n",
      "1364/1364 [==============================] - 660s 484ms/step - loss: 2.5666 - acc: 0.7984\n",
      "Epoch 65/100\n",
      "1364/1364 [==============================] - 592s 434ms/step - loss: 2.5057 - acc: 0.8028\n",
      "Epoch 66/100\n",
      "1364/1364 [==============================] - 579s 425ms/step - loss: 2.6769 - acc: 0.7925\n",
      "Epoch 67/100\n",
      "1364/1364 [==============================] - 578s 424ms/step - loss: 2.4891 - acc: 0.8116\n",
      "Epoch 68/100\n",
      "1364/1364 [==============================] - 579s 424ms/step - loss: 2.5738 - acc: 0.8109\n",
      "Epoch 69/100\n",
      "1364/1364 [==============================] - 576s 423ms/step - loss: 2.5200 - acc: 0.8057\n",
      "Epoch 70/100\n",
      "1364/1364 [==============================] - 576s 422ms/step - loss: 2.5401 - acc: 0.8109\n",
      "Epoch 71/100\n",
      "1364/1364 [==============================] - 420s 308ms/step - loss: 2.3168 - acc: 0.8270\n",
      "Epoch 72/100\n",
      "1364/1364 [==============================] - 233s 171ms/step - loss: 2.4133 - acc: 0.8145\n",
      "Epoch 73/100\n",
      "1364/1364 [==============================] - 232s 170ms/step - loss: 2.4707 - acc: 0.8109\n",
      "Epoch 74/100\n",
      "1364/1364 [==============================] - 232s 170ms/step - loss: 2.4369 - acc: 0.8101\n",
      "Epoch 75/100\n",
      "1364/1364 [==============================] - 234s 171ms/step - loss: 2.2648 - acc: 0.8277\n",
      "Epoch 76/100\n",
      "1364/1364 [==============================] - 233s 171ms/step - loss: 2.2927 - acc: 0.8270\n",
      "Epoch 77/100\n",
      "1364/1364 [==============================] - 234s 171ms/step - loss: 2.4668 - acc: 0.8226\n",
      "Epoch 78/100\n",
      "1364/1364 [==============================] - 233s 171ms/step - loss: 2.7520 - acc: 0.7977\n",
      "Epoch 79/100\n",
      "1364/1364 [==============================] - 236s 173ms/step - loss: 2.3418 - acc: 0.8270\n",
      "Epoch 80/100\n",
      "1364/1364 [==============================] - 232s 170ms/step - loss: 2.4716 - acc: 0.8138\n",
      "Epoch 81/100\n",
      "1364/1364 [==============================] - 232s 170ms/step - loss: 2.8146 - acc: 0.7955\n",
      "Epoch 82/100\n",
      "1364/1364 [==============================] - 233s 171ms/step - loss: 2.5782 - acc: 0.8087\n",
      "Epoch 83/100\n",
      "1364/1364 [==============================] - 235s 172ms/step - loss: 2.5498 - acc: 0.8160\n",
      "Epoch 84/100\n",
      "1364/1364 [==============================] - 234s 172ms/step - loss: 2.5588 - acc: 0.8145\n",
      "Epoch 85/100\n",
      "1364/1364 [==============================] - 236s 173ms/step - loss: 2.6215 - acc: 0.8072\n",
      "Epoch 86/100\n",
      "1364/1364 [==============================] - 233s 171ms/step - loss: 2.3258 - acc: 0.8358\n",
      "Epoch 87/100\n",
      "1364/1364 [==============================] - 232s 170ms/step - loss: 2.5792 - acc: 0.8094\n",
      "Epoch 88/100\n",
      "1364/1364 [==============================] - 231s 169ms/step - loss: 2.5182 - acc: 0.8204\n",
      "Epoch 89/100\n",
      "1364/1364 [==============================] - 231s 170ms/step - loss: 2.5322 - acc: 0.8109\n",
      "Epoch 90/100\n",
      "1364/1364 [==============================] - 233s 171ms/step - loss: 2.3992 - acc: 0.8233\n",
      "Epoch 91/100\n",
      "1364/1364 [==============================] - 231s 170ms/step - loss: 2.1627 - acc: 0.8365\n",
      "Epoch 92/100\n",
      "1364/1364 [==============================] - 231s 169ms/step - loss: 2.4522 - acc: 0.8248\n",
      "Epoch 93/100\n",
      "1364/1364 [==============================] - 230s 169ms/step - loss: 2.5898 - acc: 0.8094\n",
      "Epoch 94/100\n",
      "1364/1364 [==============================] - 231s 169ms/step - loss: 2.7224 - acc: 0.8057\n",
      "Epoch 95/100\n",
      "1364/1364 [==============================] - 233s 171ms/step - loss: 2.6347 - acc: 0.8087\n",
      "Epoch 96/100\n",
      "1364/1364 [==============================] - 232s 170ms/step - loss: 2.2787 - acc: 0.8255\n",
      "Epoch 97/100\n",
      "1364/1364 [==============================] - 233s 171ms/step - loss: 2.4441 - acc: 0.8240\n",
      "Epoch 98/100\n",
      "1364/1364 [==============================] - 231s 170ms/step - loss: 2.6532 - acc: 0.8065\n",
      "Epoch 99/100\n",
      "1364/1364 [==============================] - 232s 170ms/step - loss: 2.3396 - acc: 0.8233\n",
      "Epoch 100/100\n",
      "1364/1364 [==============================] - 232s 170ms/step - loss: 2.4912 - acc: 0.8255\n"
     ]
    }
   ],
   "source": [
    "#training the model\n",
    "history = model.fit(X_train, y_train,\n",
    "          batch_size=batch_size,\n",
    "          epochs=epochs,\n",
    "          verbose=1)\n"
   ]
  },
  {
   "cell_type": "code",
   "execution_count": 252,
   "metadata": {},
   "outputs": [
    {
     "data": {
      "text/plain": [
       "<matplotlib.legend.Legend at 0x2517b16b4e0>"
      ]
     },
     "execution_count": 252,
     "metadata": {},
     "output_type": "execute_result"
    },
    {
     "data": {
      "image/png": "[encoded data removed]",
      "text/plain": [
       "<Figure size 432x288 with 1 Axes>"
      ]
     },
     "metadata": {
      "needs_background": "light"
     },
     "output_type": "display_data"
    },
    {
     "data": {
      "image/png": "[encoded data removed]",
      "text/plain": [
       "<Figure size 432x288 with 1 Axes>"
      ]
     },
     "metadata": {
      "needs_background": "light"
     },
     "output_type": "display_data"
    }
   ],
   "source": [
    "accuracy = history.history['acc']\n",
    "#val_accuracy = history.history['val_acc']\n",
    "loss = history.history['loss']\n",
    "#val_loss = history.history['val_loss']\n",
    "epochs = range(len(accuracy))\n",
    "plt.plot(epochs, accuracy, 'b-', label='Training accuracy')\n",
    "#plt.plot(epochs, val_accuracy, 'b', label='Validation accuracy')\n",
    "plt.title('Training and validation accuracy')\n",
    "plt.legend()\n",
    "plt.figure()\n",
    "plt.plot(epochs, loss, 'r-', label='Training loss')\n",
    "#plt.plot(epochs, val_loss, 'b', label='Validation loss')\n",
    "plt.title('Training and validation loss')\n",
    "plt.legend()\n",
    "# plt.show()"
   ]
  },
  {
   "cell_type": "code",
   "execution_count": 253,
   "metadata": {},
   "outputs": [
    {
     "name": "stdout",
     "output_type": "stream",
     "text": [
      "585/585 [==============================] - 41s 69ms/step\n",
      "Test loss: 6.873279449267265\n",
      "Test accuracy: 0.23247863249136852\n"
     ]
    }
   ],
   "source": [
    "#testing the model\n",
    "score = model.evaluate(X_test, y_test, verbose=1)\n",
    "print('Test loss:', score[0])\n",
    "print('Test accuracy:', score[1])"
   ]
  },
  {
   "cell_type": "code",
   "execution_count": null,
   "metadata": {},
   "outputs": [],
   "source": []
  }
 ],
 "metadata": {
  "kernelspec": {
   "display_name": "Python 3",
   "language": "python",
   "name": "python3"
  },
  "language_info": {
   "codemirror_mode": {
    "name": "ipython",
    "version": 3
   },
   "file_extension": ".py",
   "mimetype": "text/x-python",
   "name": "python",
   "nbconvert_exporter": "python",
   "pygments_lexer": "ipython3",
   "version": "3.6.5"
  }
 },
 "nbformat": 4,
 "nbformat_minor": 2
}
